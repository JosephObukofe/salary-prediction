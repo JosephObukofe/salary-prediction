{
 "cells": [
  {
   "cell_type": "code",
   "execution_count": 19,
   "metadata": {},
   "outputs": [],
   "source": [
    "import joblib\n",
    "import os\n",
    "import numpy as np\n",
    "import pandas as pd\n",
    "from sklearn.model_selection import (\n",
    "    KFold,\n",
    "    cross_val_score,\n",
    ")\n",
    "from sklearn.metrics import (\n",
    "    make_scorer, \n",
    "    mean_squared_error\n",
    ")\n",
    "from salary_prediction.config.config import (\n",
    "    TRAINED_LINEAR_REGRESSOR,\n",
    "    TRAINED_RIDGE_REGRESSOR,\n",
    "    VALIDATION_TRAINING_DATA,\n",
    ")"
   ]
  },
  {
   "cell_type": "markdown",
   "metadata": {},
   "source": [
    "Loading the trained model and validation data"
   ]
  },
  {
   "cell_type": "code",
   "execution_count": 20,
   "metadata": {},
   "outputs": [],
   "source": [
    "def load_trained_model_and_validation_data():\n",
    "    linear_regression_model = joblib.load(TRAINED_LINEAR_REGRESSOR)\n",
    "    ridge_regression_model = joblib.load(TRAINED_RIDGE_REGRESSOR)\n",
    "    X_train = joblib.load(os.path.join(VALIDATION_TRAINING_DATA, \"X_train.pkl\"))\n",
    "    y_train = joblib.load(os.path.join(VALIDATION_TRAINING_DATA, \"y_train.pkl\"))\n",
    "\n",
    "    return linear_regression_model, ridge_regression_model, X_train, y_train"
   ]
  },
  {
   "cell_type": "markdown",
   "metadata": {},
   "source": [
    "Creating a custom scorer that prioritizes lower MSE scores indicating better model performance"
   ]
  },
  {
   "cell_type": "code",
   "execution_count": 21,
   "metadata": {},
   "outputs": [],
   "source": [
    "custom_scorer = make_scorer(mean_squared_error, greater_is_better=False)"
   ]
  },
  {
   "cell_type": "markdown",
   "metadata": {},
   "source": [
    "Explcit k-fold cross validation implementation"
   ]
  },
  {
   "cell_type": "code",
   "execution_count": 22,
   "metadata": {},
   "outputs": [],
   "source": [
    "cv = KFold(n_splits=5, shuffle=True, random_state=42)"
   ]
  },
  {
   "cell_type": "markdown",
   "metadata": {},
   "source": [
    "Validating the model predictions against other folds"
   ]
  },
  {
   "cell_type": "code",
   "execution_count": 23,
   "metadata": {},
   "outputs": [],
   "source": [
    "def model_validation(model, X_train, y_train, model_name):\n",
    "    mse_scores = cross_val_score(model, X_train, y_train, cv=cv, scoring=custom_scorer)\n",
    "    results = pd.DataFrame(\n",
    "        data=[mse_scores],\n",
    "        columns=[\"1st fold\", \"2nd fold\", \"3rd fold\", \"4th fold\", \"5th fold\"]\n",
    "    )\n",
    "\n",
    "    results.insert(0, \"Model\", model_name)\n",
    "\n",
    "    return results"
   ]
  },
  {
   "cell_type": "code",
   "execution_count": 24,
   "metadata": {},
   "outputs": [],
   "source": [
    "linear_regression_model, ridge_regression_model, X_train, y_train = load_trained_model_and_validation_data()"
   ]
  },
  {
   "cell_type": "markdown",
   "metadata": {},
   "source": [
    "Validation results for both Linear and Ridge Regression"
   ]
  },
  {
   "cell_type": "code",
   "execution_count": 25,
   "metadata": {},
   "outputs": [],
   "source": [
    "linear_regressor_model_validation = model_validation(linear_regression_model, X_train, y_train, \"Linear Regressor\")\n",
    "ridge_regressor_model_validation = model_validation(ridge_regression_model, X_train, y_train, \"Ridge Regressor\")"
   ]
  },
  {
   "cell_type": "markdown",
   "metadata": {},
   "source": [
    "Combining the results"
   ]
  },
  {
   "cell_type": "code",
   "execution_count": 26,
   "metadata": {},
   "outputs": [
    {
     "data": {
      "text/html": [
       "<div>\n",
       "<style scoped>\n",
       "    .dataframe tbody tr th:only-of-type {\n",
       "        vertical-align: middle;\n",
       "    }\n",
       "\n",
       "    .dataframe tbody tr th {\n",
       "        vertical-align: top;\n",
       "    }\n",
       "\n",
       "    .dataframe thead th {\n",
       "        text-align: right;\n",
       "    }\n",
       "</style>\n",
       "<table border=\"1\" class=\"dataframe\">\n",
       "  <thead>\n",
       "    <tr style=\"text-align: right;\">\n",
       "      <th></th>\n",
       "      <th>Model</th>\n",
       "      <th>1st fold</th>\n",
       "      <th>2nd fold</th>\n",
       "      <th>3rd fold</th>\n",
       "      <th>4th fold</th>\n",
       "      <th>5th fold</th>\n",
       "    </tr>\n",
       "  </thead>\n",
       "  <tbody>\n",
       "    <tr>\n",
       "      <th>0</th>\n",
       "      <td>Linear Regressor</td>\n",
       "      <td>-1.399882e+07</td>\n",
       "      <td>-2.462027e+07</td>\n",
       "      <td>-2.556635e+07</td>\n",
       "      <td>-5.153196e+07</td>\n",
       "      <td>-4.510259e+07</td>\n",
       "    </tr>\n",
       "    <tr>\n",
       "      <th>1</th>\n",
       "      <td>Ridge Regressor</td>\n",
       "      <td>-1.405319e+07</td>\n",
       "      <td>-2.466272e+07</td>\n",
       "      <td>-2.557698e+07</td>\n",
       "      <td>-5.150497e+07</td>\n",
       "      <td>-4.496705e+07</td>\n",
       "    </tr>\n",
       "  </tbody>\n",
       "</table>\n",
       "</div>"
      ],
      "text/plain": [
       "              Model      1st fold      2nd fold      3rd fold      4th fold  \\\n",
       "0  Linear Regressor -1.399882e+07 -2.462027e+07 -2.556635e+07 -5.153196e+07   \n",
       "1   Ridge Regressor -1.405319e+07 -2.466272e+07 -2.557698e+07 -5.150497e+07   \n",
       "\n",
       "       5th fold  \n",
       "0 -4.510259e+07  \n",
       "1 -4.496705e+07  "
      ]
     },
     "execution_count": 26,
     "metadata": {},
     "output_type": "execute_result"
    }
   ],
   "source": [
    "combined_validation = pd.concat([linear_regressor_model_validation, ridge_regressor_model_validation], axis=0, ignore_index=True)\n",
    "combined_validation"
   ]
  },
  {
   "cell_type": "code",
   "execution_count": 27,
   "metadata": {},
   "outputs": [],
   "source": [
    "# combined_validation.to_csv(\"/Users/josephobukofe/salary_prediction/models/model_validation_report.csv\", index=False)"
   ]
  }
 ],
 "metadata": {
  "kernelspec": {
   "display_name": "salary-prediction-Y7winy7I-py3.12",
   "language": "python",
   "name": "python3"
  },
  "language_info": {
   "codemirror_mode": {
    "name": "ipython",
    "version": 3
   },
   "file_extension": ".py",
   "mimetype": "text/x-python",
   "name": "python",
   "nbconvert_exporter": "python",
   "pygments_lexer": "ipython3",
   "version": "3.12.5"
  }
 },
 "nbformat": 4,
 "nbformat_minor": 2
}
